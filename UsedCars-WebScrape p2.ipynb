{
 "cells": [
  {
   "cell_type": "code",
   "execution_count": 25,
   "id": "e943b60b-690e-4792-990d-261a9b89a3bd",
   "metadata": {},
   "outputs": [],
   "source": [
    "# Name: Abel\n",
    "# Date: 2021.08.02 - 2021.08.10\n",
    "# Purpose: A webscraper for filling in the missing information\n",
    "# Reference: WebscrapeCivics\n",
    "\n",
    "from bs4 import BeautifulSoup\n",
    "import pandas as pd\n",
    "import requests\n",
    "from datetime import date\n",
    "import xlwings as xw\n",
    "\n",
    "from selenium import webdriver\n",
    "import time\n",
    "\n",
    "filename = '2021.08.10 Honda Civics.xlsx'"
   ]
  },
  {
   "cell_type": "code",
   "execution_count": 34,
   "id": "4d8c420f-30ae-408d-8adb-14b1670434ef",
   "metadata": {},
   "outputs": [],
   "source": [
    "def helpSel (URL):\n",
    "    driver = webdriver.Chrome()  # Optional argument, if not specified will search path.\n",
    "    #print (\"round:\", x)\n",
    "    url = URL\n",
    "    driver.get(url)\n",
    "\n",
    "    SCROLL_PAUSE_TIME = 0.5\n",
    "    # Get scroll height\n",
    "    last_height = driver.execute_script(\"return document.body.scrollHeight\")\n",
    "    for x in range (0, last_height-1000, 1000): #this is necessary to allow items on page to load\n",
    "        # Scroll down to bottom\n",
    "        driver.execute_script(\"window.scrollTo(\"+str (x)+ \", \"+str(x+1000)+\");\")\n",
    "        # Wait to load page\n",
    "        time.sleep(SCROLL_PAUSE_TIME)\n",
    "        # Calculate new scroll height and compare with last scroll height\n",
    "        new_height = driver.execute_script(\"return document.body.scrollHeight\")\n",
    "        #if new_height == last_height:\n",
    "        #    break\n",
    "        #last_height = new_height\n",
    "    time.sleep(2) # Let the user actually see something!\n",
    "    src = driver.page_source\n",
    "    driver.close()\n",
    "    return src\n",
    "\n",
    "def noSel (URL):\n",
    "    result = requests.get(URL)\n",
    "    return result.content #saves the entire source code...\n",
    "    print (result.status_code) #sanity check to ensure that the site exists, should return 200\n"
   ]
  },
  {
   "cell_type": "code",
   "execution_count": null,
   "id": "d9a40090-7099-4bde-b6b1-b46e6fad13d8",
   "metadata": {},
   "outputs": [],
   "source": [
    "df = pd.read_excel(filename, sheet_name='Num7') #missing mileage\n",
    "wb = xw.Book(filename)\n",
    "sheet = wb.sheets['num7']\n",
    "#xw.load()\n",
    "print(df.shape)\n",
    "for x in range (df.shape[0]):\n",
    "    URL = df['Link'][x]\n",
    "    #print (URL)\n",
    "    soup = BeautifulSoup(noSel(URL))\n",
    "    for a in soup.findAll('dd', attrs={'class':'col-xs-7 p-0'}):\n",
    "        if 'kilometers' in a.text:\n",
    "            sheet.range ('D' + str(x+2)).value = a.text\n",
    "#print(df.head(20))    \n",
    "    "
   ]
  },
  {
   "cell_type": "code",
   "execution_count": 40,
   "id": "e4c8f3e3-99be-484a-8075-cbf6cd901a26",
   "metadata": {},
   "outputs": [
    {
     "name": "stdout",
     "output_type": "stream",
     "text": [
      "(18, 7)\n"
     ]
    }
   ],
   "source": [
    "df = pd.read_excel(filename, sheet_name='Markham') #missing Color\n",
    "wb = xw.Book(filename)\n",
    "sheet = wb.sheets['Markham']\n",
    "#xw.load()\n",
    "print(df.shape)\n",
    "for x in range (df.shape[0]):\n",
    "    URL = df['Link'][x]\n",
    "    soup = BeautifulSoup(noSel(URL))\n",
    "    tempColor = soup.find('i', attrs={'title':'Ext. Color'})\n",
    "    sheet.range ('C' + str(x+2)).value = tempColor.parent.findNext('span').text\n",
    "#print(df.head(20))"
   ]
  },
  {
   "cell_type": "code",
   "execution_count": 51,
   "id": "ca8216e6-beaa-424a-97d6-d73c87ec9c54",
   "metadata": {},
   "outputs": [
    {
     "name": "stdout",
     "output_type": "stream",
     "text": [
      "(15, 7)\n"
     ]
    }
   ],
   "source": [
    "df = pd.read_excel(filename, sheet_name='Sisley') #missing color\n",
    "wb = xw.Book(filename)\n",
    "sheet = wb.sheets['Sisley']\n",
    "#xw.load()\n",
    "print(df.shape)\n",
    "for x in range (df.shape[0]):\n",
    "    URL = df['Link'][x]\n",
    "    #print (URL)\n",
    "    soup = BeautifulSoup(noSel(URL))\n",
    "    for a in soup.findAll('div', attrs={'class':'detail-label'}):\n",
    "        if 'Color' in a.text:\n",
    "            sheet.range ('C' + str(x+2)).value = a.findNext('div').text\n",
    "#print(df.head(20))    \n",
    "    "
   ]
  },
  {
   "cell_type": "code",
   "execution_count": 53,
   "id": "0a1020be-65d4-41a6-a2c8-1e7c5dad37c8",
   "metadata": {},
   "outputs": [
    {
     "name": "stdout",
     "output_type": "stream",
     "text": [
      "(4, 7)\n"
     ]
    }
   ],
   "source": [
    "df = pd.read_excel(filename, sheet_name='Formula') #missing Carfax Link\n",
    "wb = xw.Book(filename)\n",
    "sheet = wb.sheets['Formula']\n",
    "#xw.load()\n",
    "print(df.shape)\n",
    "for x in range (df.shape[0]):\n",
    "    URL = df['Link'][x]\n",
    "    soup = BeautifulSoup(noSel(URL))\n",
    "    sheet.range ('G' + str(x+2)).value = soup.find('div', attrs={'class':'vdp-history-report__logo'}).find('a').attrs['href']\n",
    "#print(df.head(20))"
   ]
  },
  {
   "cell_type": "code",
   "execution_count": null,
   "id": "b0f67898-beed-40ba-808f-ee14696a9f50",
   "metadata": {},
   "outputs": [],
   "source": []
  }
 ],
 "metadata": {
  "kernelspec": {
   "display_name": "Python 3",
   "language": "python",
   "name": "python3"
  },
  "language_info": {
   "codemirror_mode": {
    "name": "ipython",
    "version": 3
   },
   "file_extension": ".py",
   "mimetype": "text/x-python",
   "name": "python",
   "nbconvert_exporter": "python",
   "pygments_lexer": "ipython3",
   "version": "3.8.10"
  }
 },
 "nbformat": 4,
 "nbformat_minor": 5
}
