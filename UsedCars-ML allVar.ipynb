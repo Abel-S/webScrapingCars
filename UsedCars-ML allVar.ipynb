{
 "cells": [
  {
   "cell_type": "code",
   "execution_count": 4,
   "id": "7b3a4b0f-4d20-4476-8943-ad43eda67b3a",
   "metadata": {},
   "outputs": [],
   "source": [
    "#Name: Abel\n",
    "#Date: 2021.08.11\n",
    "#Purpose: to inquire about the effect of certain characteristics on price and to develop a predictive model on pricing based on current prices\n",
    "#TODO: Update excel file to read from\n",
    "#References: Kaggle Tutorials"
   ]
  },
  {
   "cell_type": "code",
   "execution_count": 32,
   "id": "6638a535-46c0-4098-ab4d-c01e74f1c850",
   "metadata": {},
   "outputs": [],
   "source": [
    "import numpy as np\n",
    "import pandas as pd\n",
    "import seaborn as sns\n",
    "import matplotlib.pyplot as plt\n",
    "from sklearn.model_selection import train_test_split, cross_val_score\n",
    "\n",
    "from sklearn.compose import ColumnTransformer\n",
    "from sklearn.pipeline import Pipeline\n",
    "from sklearn.impute import SimpleImputer\n",
    "from sklearn.preprocessing import OneHotEncoder\n",
    "from sklearn.ensemble import RandomForestRegressor\n",
    "from sklearn.metrics import mean_absolute_error"
   ]
  },
  {
   "cell_type": "code",
   "execution_count": 33,
   "id": "d3f92c50-407b-429f-874e-1343658555b1",
   "metadata": {},
   "outputs": [],
   "source": [
    "#-----Changes entries in col to NaN that have a count of less than or equal to the threshold------#\n",
    "def remove_rare_values_in (col, threshold, df): \n",
    "    value_counts = df[col].value_counts()  \n",
    "    to_remove = value_counts[value_counts <= threshold].index\n",
    "    print ('The following:', to_remove,'was removed in', col)\n",
    "    df['Vehicle'].replace(to_remove, np.nan, inplace=True)\n",
    "\n",
    "#df = df.dropna(subset=['Vehicle', 'Year', 'Mileage', 'Price', 'Color'], axis=0) #removes any NaN data; color is included to investigate the factor color\n",
    "#df = df[df.Mileage < 150000]\n",
    "\n",
    "#print (df.shape)  #after 'more cleaning'\n",
    "#df = df.sort_values (by=['Price'], ascending=True)"
   ]
  },
  {
   "cell_type": "code",
   "execution_count": 34,
   "id": "21d8cb23-b383-402e-9659-c0a0f9c94d08",
   "metadata": {},
   "outputs": [
    {
     "name": "stdout",
     "output_type": "stream",
     "text": [
      "before preprocessing, data shape:  (451, 6)\n",
      "     Vehicle   Color Location  Year  Mileage\n",
      "65   Touring     red   Sisley  2018    33653\n",
      "163       LX  silver  Parkway  2017    75452\n",
      "163    Sport    blue   Sisley  2019    14736\n",
      "80        EX   black    Maple  2018    99065\n",
      "46      EX-L  silver  Midtown  2009   238903\n"
     ]
    }
   ],
   "source": [
    "# read the data, compile all into one DF\n",
    "df1 = pd.concat(pd.read_excel('2021.10.01 Honda Civics (MLReady).xlsx', sheet_name=None), ignore_index=True) \n",
    "df3 = pd.concat(pd.read_excel('2021.08.10 Honda Civics (MLReady).xlsx', sheet_name=None), ignore_index=True) \n",
    "df3 = pd.concat(pd.read_excel('2021.08.16 Honda Civics (MLReady).xlsx', sheet_name=None), ignore_index=True) \n",
    "data = pd.concat ([df1, df2, df3], axis=0)\n",
    "print (\"before preprocessing, data shape: \", data.shape) #before 'more cleaning'\n",
    "\n",
    "#Removes rows with missing target, seperate target from predictors\n",
    "data.dropna(axis=0, subset=['Price'], inplace=True)\n",
    "y = data.Price\n",
    "X = data.drop(['Price'], axis = 1)\n",
    "\n",
    "#Divide data into training and validation subsets\n",
    "X_train_full, X_valid_full, y_train, y_valid = train_test_split(X, y, train_size=0.8, test_size=0.2, random_state=1)\n",
    "\n",
    "# Select numerical columns\n",
    "numerical_cols = [cname for cname in X_train_full.columns if X_train_full[cname].dtype in ['int64', 'float64']]\n",
    "\n",
    "# Select categorical columns \n",
    "categorical_cols = [cname for cname in X_train_full.columns if X_train_full[cname].dtype == \"object\"]\n",
    "\n",
    "# Keep selected columns only\n",
    "my_cols = categorical_cols + numerical_cols\n",
    "X_train = X_train_full[my_cols].copy()\n",
    "X_valid = X_valid_full[my_cols].copy()\n",
    "\n",
    "print(X_train.head())\n"
   ]
  },
  {
   "cell_type": "code",
   "execution_count": 35,
   "id": "07632013-5b7f-4442-ac60-b050735a0ee9",
   "metadata": {},
   "outputs": [],
   "source": [
    "#----------------Preparing preprocessing process------------------#\n",
    "# Preprocessing for numerical data\n",
    "numerical_transformer = SimpleImputer() #strategy='mean' by default\n",
    "\n",
    "# Preprocessing for categorical data\n",
    "categorical_transformer = Pipeline(steps=[\n",
    "    ('imputer', SimpleImputer(strategy='constant')),\n",
    "    ('onehot', OneHotEncoder(handle_unknown='ignore'))\n",
    "])\n",
    "\n",
    "# Bundle preprocessing for numerical and categorical data\n",
    "preprocessor = ColumnTransformer(\n",
    "    transformers=[\n",
    "        ('num', numerical_transformer, numerical_cols),\n",
    "        ('cat', categorical_transformer, categorical_cols)\n",
    "    ])"
   ]
  },
  {
   "cell_type": "code",
   "execution_count": 41,
   "id": "8ba9e0ff-3d47-43c7-9b79-9504a763b456",
   "metadata": {},
   "outputs": [
    {
     "name": "stdout",
     "output_type": "stream",
     "text": [
      "{50: 751.0535494365412, 100: 750.7342185163351, 150: 750.3241050609573, 200: 751.5312030107767, 250: 752.2790775622698, 300: 753.3644542187203, 350: 753.162329759118, 400: 752.9039857036147}\n"
     ]
    },
    {
     "data": {
      "image/png": "[encoded data removed]",
      "text/plain": [
       "<Figure size 432x288 with 1 Axes>"
      ]
     },
     "metadata": {
      "needs_background": "light"
     },
     "output_type": "display_data"
    }
   ],
   "source": [
    "#----------------Finding optimal n_estimator for the RandomForestRegressor------------------#\n",
    "results = {}\n",
    "for est in range(50, 401, 50):\n",
    "    # Define model\n",
    "    model = RandomForestRegressor(n_estimators=est, random_state=1)\n",
    "\n",
    "    # Bundle preprocessing and modeling code in a pipeline\n",
    "    my_pipeline = Pipeline(steps=[('preprocessor', preprocessor),\n",
    "                          ('model', model)\n",
    "                         ])\n",
    "    # Replace this body with your own code\n",
    "    scores = -1* cross_val_score(my_pipeline, X, y,\n",
    "                              cv=3,\n",
    "                              scoring='neg_mean_absolute_error')\n",
    "    results [est] = scores.mean()\n",
    "# Visualizing results\n",
    "print (results)\n",
    "%matplotlib inline\n",
    "plt.plot(list(results.keys()), list(results.values()))\n",
    "plt.show()"
   ]
  },
  {
   "cell_type": "code",
   "execution_count": 42,
   "id": "d4b0cd2c-e0fe-421d-a522-cfb562c373fc",
   "metadata": {},
   "outputs": [
    {
     "name": "stdout",
     "output_type": "stream",
     "text": [
      "MAE: 783.9697813639036\n"
     ]
    }
   ],
   "source": [
    "#----------------Fitting with optimized n_estimator------------------#\n",
    "model = RandomForestRegressor(n_estimators=150, random_state=1)\n",
    "\n",
    "# Bundle preprocessing and modeling code in a pipeline\n",
    "clf = Pipeline(steps=[('preprocessor', preprocessor),\n",
    "                      ('model', model)\n",
    "                     ])\n",
    "\n",
    "# Preprocessing of training data, fit model \n",
    "clf.fit(X_train, y_train)\n",
    "\n",
    "# Preprocessing of validation data, get predictions\n",
    "preds = clf.predict(X_valid)\n",
    "\n",
    "print('MAE:', mean_absolute_error(y_valid, preds))\n",
    "#print (X_train.head(20))"
   ]
  }
 ],
 "metadata": {
  "kernelspec": {
   "display_name": "Python 3",
   "language": "python",
   "name": "python3"
  },
  "language_info": {
   "codemirror_mode": {
    "name": "ipython",
    "version": 3
   },
   "file_extension": ".py",
   "mimetype": "text/x-python",
   "name": "python",
   "nbconvert_exporter": "python",
   "pygments_lexer": "ipython3",
   "version": "3.8.10"
  }
 },
 "nbformat": 4,
 "nbformat_minor": 5
}
