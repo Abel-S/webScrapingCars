{
 "cells": [
  {
   "cell_type": "code",
   "execution_count": 44,
   "id": "5dc4e03a-fcba-4b1e-81e6-9dfe14b4e3cc",
   "metadata": {},
   "outputs": [],
   "source": [
    "# Name: Abel\n",
    "# Date: 2021.07.20\n",
    "# Purpose: A webscraper for Honda Civic from Waterloo Honda\n",
    "# Reference: Webscraper from Edureka\n",
    "\n",
    "from bs4 import BeautifulSoup\n",
    "import pandas as pd\n",
    "import requests\n",
    "URL = \"https://www.waterloohonda.com/en/used-inventory/honda/civic_sedan\"\n",
    "result = requests.get(URL)\n",
    "#print (result.status_code) #sanity check to ensure that the site exists, should return 200\n",
    "src = result.content #saves the entire source code...\n",
    "soup = BeautifulSoup(src)\n",
    "\n",
    "#-----------Initialization------------------\n",
    "vehicleName=[] #List to vehicle model and trim of the product\n",
    "yearMake=[] #List to year & make of the product\n",
    "tagline=[] #List of taglines\n",
    "mileage=[] # List of mileage\n",
    "price=[] #List to store price of the product\n",
    "vehicleDetails=[] #List to store rating of the product\n",
    "#carfaxLink=[] #list of carfax\n",
    "\n",
    "#numCars = soup.findAll('article', attrs={'class':'inventory-tile inventory-listing-charlie__vehicles-item small-12 medium-6 large-4 cell'})\n",
    "#print (len(numCars))\n",
    "for a in soup.findAll('article', attrs={'class':'inventory-tile inventory-listing-charlie__vehicles-item small-12 medium-6 large-4 cell'}):\n",
    "    yearMake.append (a.find('span', attrs={'class':'inventory-tile-section-vehicle-name--year-make'}).text)\n",
    "    vehicleName.append(a.find('span', attrs={'class':'inventory-tile-section-vehicle-name--model-name'}).text)\n",
    "    vehicleDetails.append (\"https://www.waterloohonda.com/\"+ a.find('a', attrs={'role':'button'}).attrs['href'])\n",
    "    tagline.append (a.find('div', attrs={'class':'inventory-tile-section-tagline'}).text.replace('\\n', ''))\n",
    "    mileage.append (a.find('div', attrs={'itemprop':'mileageFromOdometer'}).text.replace('\\n', '').strip())\n",
    "    price.append(a.find('span', attrs={'itemprop':'price'}).text.replace('\\n', '').strip())\n",
    "    #name = soup.find_all(\"a\", href=re.compile(r\"//vhr.carfax.ca/\")) #NOT SURE WHY THIS DOESN\"T WORK...\n",
    "df = pd.DataFrame({'Vehicle':vehicleName, 'Year & Make':yearMake, 'Tagline': tagline, 'Mileage':mileage, 'Price':price,'Link':vehicleDetails}) \n",
    "print (df.shape)\n",
    "df.head(10)\n",
    "df.to_excel('Honda Civics.xlsx', sheet_name='WaterlooHonda')\n",
    "#df.to_csv('Waterloo Honda - Civic.csv', index=False, encoding='utf-8') #to make a .csv file containing this table"
   ]
  }
 ],
 "metadata": {
  "kernelspec": {
   "display_name": "Python 3",
   "language": "python",
   "name": "python3"
  },
  "language_info": {
   "codemirror_mode": {
    "name": "ipython",
    "version": 3
   },
   "file_extension": ".py",
   "mimetype": "text/x-python",
   "name": "python",
   "nbconvert_exporter": "python",
   "pygments_lexer": "ipython3",
   "version": "3.8.10"
  }
 },
 "nbformat": 4,
 "nbformat_minor": 5
}
